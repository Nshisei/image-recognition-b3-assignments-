{
  "nbformat": 4,
  "nbformat_minor": 0,
  "metadata": {
    "colab": {
      "name": "handsign.ipynb",
      "provenance": []
    },
    "kernelspec": {
      "name": "python3",
      "display_name": "Python 3"
    },
    "language_info": {
      "name": "python"
    },
    "accelerator": "GPU"
  },
  "cells": [
    {
      "cell_type": "markdown",
      "source": [
        "### 使い方\n",
        "```\n",
        "1．Google Driveにhandsignというディレクトリを作成\n",
        "2. handsignに添付のmoviesの中身をすべて入れる\n",
        "3. 以降のセルを実行\n",
        "4. 学習後に得られたモデルファイル(vgg16.hdf5)と(vgg16.json)を(realtime_handsign.ipynb)で読み込む。\n",
        "```"
      ],
      "metadata": {
        "id": "RcK3N6zwExHQ"
      }
    },
    {
      "cell_type": "markdown",
      "source": [
        "### Google Driveと連携"
      ],
      "metadata": {
        "id": "oGpbihbtFgKF"
      }
    },
    {
      "cell_type": "code",
      "source": [
        "from google.colab import drive\n",
        "drive.mount('/content/drive')"
      ],
      "metadata": {
        "colab": {
          "base_uri": "https://localhost:8080/"
        },
        "id": "zdQGiLMNoLm-",
        "outputId": "33063ad0-5f09-49b4-b963-e01bad9f017c"
      },
      "execution_count": 1,
      "outputs": [
        {
          "output_type": "stream",
          "name": "stdout",
          "text": [
            "Mounted at /content/drive\n"
          ]
        }
      ]
    },
    {
      "cell_type": "code",
      "source": [
        "!ls  /content/drive/MyDrive/handsign"
      ],
      "metadata": {
        "colab": {
          "base_uri": "https://localhost:8080/"
        },
        "id": "xWS65eULqwgB",
        "outputId": "2737cd78-7304-43f1-bb1b-bb7061f0a4cf"
      },
      "execution_count": 2,
      "outputs": [
        {
          "output_type": "stream",
          "name": "stdout",
          "text": [
            "hebi  hituji  inoshishi  inu  nezumi  saru  tatu  tora\ttori  uma  usagi  ushi\n"
          ]
        }
      ]
    },
    {
      "cell_type": "code",
      "source": [
        "# 分類するクラス\n",
        "classes = ['nezumi', 'ushi', 'tora', 'usagi', 'tatu', 'hebi', 'uma', 'hituji', 'saru', 'tori', 'inu', 'inoshishi'] "
      ],
      "metadata": {
        "id": "f3Os94EwdI9Y"
      },
      "execution_count": 3,
      "outputs": []
    },
    {
      "cell_type": "markdown",
      "source": [
        "### train, val, testディレクトリを作成"
      ],
      "metadata": {
        "id": "kckOWrEwFpGu"
      }
    },
    {
      "cell_type": "code",
      "source": [
        "import os\n",
        "for dir in ['train', 'val', 'test']:\n",
        "    for c in classes:\n",
        "        os.makedirs(f'{dir}/{c}', exist_ok=True)"
      ],
      "metadata": {
        "id": "XpvM7iSPa65k"
      },
      "execution_count": 4,
      "outputs": []
    },
    {
      "cell_type": "markdown",
      "source": [
        "### Drive中のmp4ファイルを使ってjpgファイルを作成＆振り分け"
      ],
      "metadata": {
        "id": "WMXexlWoFvl2"
      }
    },
    {
      "cell_type": "code",
      "source": [
        "import shutil\n",
        "MOVIE_DIR = '/content/drive/MyDrive/handsign'\n",
        "for c in classes:\n",
        "    files = os.listdir(f'{MOVIE_DIR}/{c}') # handsing/class_name/以下のファイルを取得\n",
        "    for f in files:\n",
        "        if f.split('.')[-1] == 'mp4': # failがmp4ならjpg化\n",
        "            if 'test' in f: # mp4のファイル名に\"test\"が含まれていればtest用ファイルにする\n",
        "                cmd = f'ffmpeg -i {MOVIE_DIR}/{c}/{f} -loglevel error -vcodec mjpeg /content/test/{c}/{c}_%04d.jpg'\n",
        "                !{cmd}\n",
        "            else: # それ以外はtrainディレクトリ\n",
        "                name = f.split('.')[0]\n",
        "                cmd = f'ffmpeg -i {MOVIE_DIR}/{c}/{f} -loglevel error -vcodec mjpeg /content/train/{c}/{name}_%04d.jpg'\n",
        "                !{cmd}\n",
        "        elif f.split('.')[-1] == 'jpg': # その他jpgファイルもtrainディレクトリに格納\n",
        "            shutil.move(f'{SAVE_DIR}/{c}/{f}', f'./train/{c}/')"
      ],
      "metadata": {
        "id": "bV8SlqwEcaUv"
      },
      "execution_count": 6,
      "outputs": []
    },
    {
      "cell_type": "code",
      "source": [
        "# 実行環境\n",
        "%cd /content/\n",
        "!ls"
      ],
      "metadata": {
        "colab": {
          "base_uri": "https://localhost:8080/"
        },
        "id": "bN9-JiNMyFgT",
        "outputId": "6e893ce9-dd90-4d08-fe0f-4170d54ab178"
      },
      "execution_count": 7,
      "outputs": [
        {
          "output_type": "stream",
          "name": "stdout",
          "text": [
            "/content\n",
            "drive  sample_data  test  train  val\n"
          ]
        }
      ]
    },
    {
      "cell_type": "markdown",
      "source": [
        "### 検証データ分割関数"
      ],
      "metadata": {
        "id": "yIj37yhyGeIv"
      }
    },
    {
      "cell_type": "code",
      "source": [
        "import os\n",
        "from random import sample\n",
        "import shutil\n",
        "# 指定したtrainディレクトリ中のファイルをrateで指定した分valディレクトリに移動させる\n",
        "def random_move(dir, rate=0.3):\n",
        "    train_list = os.listdir(f'./train/{dir}')\n",
        "    n = int(len(train_list) * rate)\n",
        "    val_list = sample(train_list, n)\n",
        "    for f in val_list:\n",
        "        shutil.move(f'./train/{dir}/{f}', f'./val/{dir}/')"
      ],
      "metadata": {
        "id": "1VBGq0rRDfq5"
      },
      "execution_count": 8,
      "outputs": []
    },
    {
      "cell_type": "markdown",
      "source": [
        "### 学習データと検証用データ(7:3)に分割"
      ],
      "metadata": {
        "id": "jWN4RrI0Gua6"
      }
    },
    {
      "cell_type": "code",
      "source": [
        "for c in classes:\n",
        "    random_move(c)"
      ],
      "metadata": {
        "id": "KEq0LuhPEpLO"
      },
      "execution_count": 9,
      "outputs": []
    },
    {
      "cell_type": "markdown",
      "source": [
        "### ディレクトリごとファイル数確認"
      ],
      "metadata": {
        "id": "y90oQAa3G24Z"
      }
    },
    {
      "cell_type": "code",
      "source": [
        "!ls"
      ],
      "metadata": {
        "colab": {
          "base_uri": "https://localhost:8080/"
        },
        "id": "0qjxS_fBJRzB",
        "outputId": "73d0d51e-658c-40f5-8094-f32658b618a3"
      },
      "execution_count": 10,
      "outputs": [
        {
          "output_type": "stream",
          "name": "stdout",
          "text": [
            "drive  sample_data  test  train  val\n"
          ]
        }
      ]
    },
    {
      "cell_type": "code",
      "source": [
        "import os\n",
        "from glob import glob\n",
        "print('train')\n",
        "print(len(glob('./train/*/*.jpg')))\n",
        "for c in classes:\n",
        "    print(c,': ',len(glob(f'./train/{c}/*.jpg')))\n",
        "\n",
        "print('val')\n",
        "print(len(glob('./val/*/*.jpg')))\n",
        "for c in classes:\n",
        "    print(c,': ',len(glob(f'./val/{c}/*.jpg')))\n",
        "\n",
        "print('test')\n",
        "print(len(glob('./test/*/*.jpg')))\n",
        "for c in classes:\n",
        "    print(c,': ',len(glob(f'./test/{c}/*.jpg')))"
      ],
      "metadata": {
        "colab": {
          "base_uri": "https://localhost:8080/"
        },
        "id": "lL7JL3nV08Vf",
        "outputId": "50e6f666-9871-43a7-b52d-358cc6eac1e7"
      },
      "execution_count": 11,
      "outputs": [
        {
          "output_type": "stream",
          "name": "stdout",
          "text": [
            "train\n",
            "72859\n",
            "nezumi :  6604\n",
            "ushi :  6121\n",
            "tora :  5929\n",
            "usagi :  5900\n",
            "tatu :  5820\n",
            "hebi :  6394\n",
            "uma :  6107\n",
            "hituji :  6046\n",
            "saru :  5859\n",
            "tori :  6305\n",
            "inu :  5881\n",
            "inoshishi :  5893\n",
            "val\n",
            "31219\n",
            "nezumi :  2830\n",
            "ushi :  2623\n",
            "tora :  2541\n",
            "usagi :  2528\n",
            "tatu :  2493\n",
            "hebi :  2739\n",
            "uma :  2617\n",
            "hituji :  2591\n",
            "saru :  2510\n",
            "tori :  2702\n",
            "inu :  2520\n",
            "inoshishi :  2525\n",
            "test\n",
            "7244\n",
            "nezumi :  614\n",
            "ushi :  624\n",
            "tora :  608\n",
            "usagi :  604\n",
            "tatu :  525\n",
            "hebi :  677\n",
            "uma :  580\n",
            "hituji :  564\n",
            "saru :  505\n",
            "tori :  555\n",
            "inu :  555\n",
            "inoshishi :  833\n"
          ]
        }
      ]
    },
    {
      "cell_type": "markdown",
      "source": [
        "## VGG16"
      ],
      "metadata": {
        "id": "NBgKbdaa15SK"
      }
    },
    {
      "cell_type": "code",
      "source": [
        "import os\n",
        "import random\n",
        "import glob\n",
        "import matplotlib.pyplot as plt \n",
        "import tensorflow\n",
        "from keras.preprocessing.image import ImageDataGenerator\n",
        "from tensorflow.keras.applications.vgg16 import VGG16\n",
        "from keras.models import Sequential, Model\n",
        "from keras.layers import Input, Flatten, Dense\n",
        "from keras import optimizers\n",
        "from keras.callbacks import ModelCheckpoint, EarlyStopping\n",
        "\n",
        "\n",
        "classes = ['nezumi', 'ushi', 'tora', 'usagi', 'tatu', 'hebi', 'uma', 'hituji', 'saru', 'tori', 'inu', 'inoshishi'] \n",
        "nb_classes = len(classes)\n",
        "\n",
        "#train val dir\n",
        "train_dir = './train'\n",
        "val_dir = './val'\n",
        "test_dir = './test'\n",
        "model_dir = './model'\n",
        "train_batch_size = 1024\n",
        "val_batch_size = 1024\n",
        "\n",
        "#num samples\n",
        "train_samples = glob.glob(train_dir + '/*/*.jpg')\n",
        "val_samples = glob.glob(val_dir + '/*/*.jpg')\n",
        "train_samples = len(train_samples)\n",
        "val_samples = len(val_samples)\n",
        "print(train_samples)\n",
        "print(val_samples)\n",
        "\n",
        "#img size\n",
        "img_w, img_h = 90, 45\n",
        "\n",
        "#keras image data generator\n",
        "train_datagen = ImageDataGenerator(rescale = 1.0/255, zoom_range=0.2)\n",
        "val_datagen = ImageDataGenerator(rescale=1.0 / 255)\n",
        "\n",
        "train_generator = train_datagen.flow_from_directory(\n",
        "    train_dir,\n",
        "    target_size=(img_w,img_h),\n",
        "    color_mode = 'rgb',\n",
        "    classes = classes,\n",
        "    class_mode = 'categorical',\n",
        "    batch_size = train_batch_size\n",
        ")\n",
        "\n",
        "val_generator = val_datagen.flow_from_directory(\n",
        "    val_dir,\n",
        "    target_size=(img_w,img_h),\n",
        "    color_mode = 'rgb',\n",
        "    classes = classes,\n",
        "    class_mode = 'categorical',\n",
        "    batch_size = val_batch_size\n",
        ")\n",
        "\n",
        "#TO save model\n",
        "checkpoint = ModelCheckpoint(\n",
        "    filepath = os.path.join(\n",
        "        model_dir,\n",
        "        'vgg16_{epoch:02d}.hdf5'\n",
        "    ),\n",
        "    save_best_only=True\n",
        ")\n",
        "\n",
        "#TO early stopping\n",
        "early_stopping = EarlyStopping(monitor='val_loss',patience=3,verbose=0,mode='auto')\n",
        "\n",
        "### model ###\n",
        "#VGG16\n",
        "input_tensor = Input(shape=(img_w,img_h,3))\n",
        "# include_top=False: 全結合層を除外\n",
        "vgg16_model  = VGG16(include_top=False, weights='imagenet', input_tensor=input_tensor)\n",
        "top_model = Sequential()\n",
        "top_model.add(Flatten(input_shape=vgg16_model.output_shape[1:]))\n",
        "top_model.add(Dense(256, activation='relu'))\n",
        "top_model.add(Dense(nb_classes, activation='softmax'))\n",
        "vgg16 = Model(inputs=vgg16_model.input, outputs=top_model(vgg16_model.output))\n",
        "\n",
        "# 図3における14層目までのモデル重みを固定（VGG16のモデル重みを用いる）\n",
        "for layer in vgg16.layers[:15]:\n",
        "    layer.trainable = False\n",
        "\n",
        "#hyper param\n",
        "vgg16.compile(loss='categorical_crossentropy',\n",
        "              optimizer=tensorflow.keras.optimizers.SGD(learning_rate=0.0001, momentum=0.99),\n",
        "              metrics=['accuracy'])\n",
        "\n",
        "#train \n",
        "epoch = 10\n",
        "vgg16_history = vgg16.fit(\n",
        "    train_generator,\n",
        "    steps_per_epoch=(train_samples//train_batch_size),\n",
        "    epochs=epoch,\n",
        "    validation_data=val_generator,\n",
        "    callbacks=[checkpoint,early_stopping]\n",
        ")\n",
        "print(vgg16_history.history)"
      ],
      "metadata": {
        "id": "0VOBNHWkllqG",
        "colab": {
          "base_uri": "https://localhost:8080/"
        },
        "outputId": "e28d7e93-1dc3-445c-96bf-9b1f53c687ce"
      },
      "execution_count": 18,
      "outputs": [
        {
          "output_type": "stream",
          "name": "stdout",
          "text": [
            "72859\n",
            "31219\n",
            "Found 72859 images belonging to 12 classes.\n",
            "Found 31219 images belonging to 12 classes.\n",
            "Epoch 1/10\n",
            "71/71 [==============================] - 160s 2s/step - loss: 2.3780 - accuracy: 0.2042 - val_loss: 2.0579 - val_accuracy: 0.3581\n",
            "Epoch 2/10\n",
            "71/71 [==============================] - 158s 2s/step - loss: 1.6479 - accuracy: 0.5012 - val_loss: 1.0823 - val_accuracy: 0.6740\n",
            "Epoch 3/10\n",
            "71/71 [==============================] - 158s 2s/step - loss: 0.8453 - accuracy: 0.7267 - val_loss: 0.5232 - val_accuracy: 0.8347\n",
            "Epoch 4/10\n",
            "71/71 [==============================] - 158s 2s/step - loss: 0.4755 - accuracy: 0.8457 - val_loss: 0.3020 - val_accuracy: 0.9008\n",
            "Epoch 5/10\n",
            "71/71 [==============================] - 158s 2s/step - loss: 0.3081 - accuracy: 0.9005 - val_loss: 0.1843 - val_accuracy: 0.9454\n",
            "Epoch 6/10\n",
            "71/71 [==============================] - 158s 2s/step - loss: 0.2143 - accuracy: 0.9320 - val_loss: 0.1395 - val_accuracy: 0.9569\n",
            "Epoch 7/10\n",
            "71/71 [==============================] - 158s 2s/step - loss: 0.1549 - accuracy: 0.9516 - val_loss: 0.0899 - val_accuracy: 0.9758\n",
            "Epoch 8/10\n",
            "71/71 [==============================] - 158s 2s/step - loss: 0.1147 - accuracy: 0.9661 - val_loss: 0.0720 - val_accuracy: 0.9800\n",
            "Epoch 9/10\n",
            "71/71 [==============================] - 159s 2s/step - loss: 0.0912 - accuracy: 0.9743 - val_loss: 0.0536 - val_accuracy: 0.9870\n",
            "Epoch 10/10\n",
            "71/71 [==============================] - 158s 2s/step - loss: 0.0728 - accuracy: 0.9803 - val_loss: 0.0459 - val_accuracy: 0.9876\n",
            "{'loss': [2.377955436706543, 1.6479233503341675, 0.8453048467636108, 0.4755009412765503, 0.30809661746025085, 0.21430237591266632, 0.1548732966184616, 0.11469278484582901, 0.09117589145898819, 0.07278167456388474], 'accuracy': [0.20423191785812378, 0.50124591588974, 0.7267488241195679, 0.8457158803939819, 0.9005498886108398, 0.9319969415664673, 0.9515695571899414, 0.9661167860031128, 0.9742604494094849, 0.9802603125572205], 'val_loss': [2.0579099655151367, 1.0822596549987793, 0.5232113003730774, 0.3020356297492981, 0.18432044982910156, 0.13949128985404968, 0.08989129960536957, 0.07202965021133423, 0.05362159386277199, 0.04591045156121254], 'val_accuracy': [0.3581472933292389, 0.6739805936813354, 0.8347160220146179, 0.9007655382156372, 0.9454498887062073, 0.9569172859191895, 0.9757519364356995, 0.9800121784210205, 0.987027108669281, 0.9876037240028381]}\n"
          ]
        }
      ]
    },
    {
      "cell_type": "markdown",
      "source": [
        "### テスト"
      ],
      "metadata": {
        "id": "FrJ3PVpJHd0r"
      }
    },
    {
      "cell_type": "code",
      "source": [
        "test_dir = './test'\n",
        "test_samples = glob.glob(test_dir + '/*/*.jpg')\n",
        "test_samples = len(test_samples)\n",
        "print(test_samples)\n",
        "test_batch_size = 16\n",
        "test_datagen = ImageDataGenerator(rescale=1.0 / 255)\n",
        "test_generator = test_datagen.flow_from_directory(\n",
        "    test_dir,\n",
        "    target_size=(img_w,img_h),\n",
        "    color_mode = 'rgb',\n",
        "    classes = classes,\n",
        "    class_mode = 'categorical',\n",
        "    batch_size = test_batch_size,\n",
        "    shuffle=False\n",
        ")\n",
        "step_size = test_samples // test_batch_size\n",
        "vgg16.evaluate(test_generator, steps=step_size)"
      ],
      "metadata": {
        "colab": {
          "base_uri": "https://localhost:8080/"
        },
        "id": "rM76jQDukJIY",
        "outputId": "17ce7376-52f2-4807-bae2-5e4afbc13f22"
      },
      "execution_count": 19,
      "outputs": [
        {
          "output_type": "stream",
          "name": "stdout",
          "text": [
            "7244\n",
            "Found 7244 images belonging to 12 classes.\n",
            "452/452 [==============================] - 9s 19ms/step - loss: 0.2999 - accuracy: 0.8962\n"
          ]
        },
        {
          "output_type": "execute_result",
          "data": {
            "text/plain": [
              "[0.2998763620853424, 0.8961559534072876]"
            ]
          },
          "metadata": {},
          "execution_count": 19
        }
      ]
    },
    {
      "cell_type": "code",
      "source": [
        "#plot \n",
        "acc = vgg16_history.history['accuracy']\n",
        "val_acc = vgg16_history.history['val_accuracy']\n",
        "loss = vgg16_history.history['loss']\n",
        "val_loss = vgg16_history.history['val_loss']\n",
        "\n",
        "epochs = epoch\n",
        "\n",
        "plt.figure()\n",
        "plt.plot(range(1,epochs+1),acc,'b',label = 'traning accracy')\n",
        "plt.plot(range(1,epochs+1),val_acc,'r',label='validation accracy')\n",
        "plt.title('Training and validation accuracy')\n",
        "plt.show()"
      ],
      "metadata": {
        "colab": {
          "base_uri": "https://localhost:8080/",
          "height": 281
        },
        "id": "A3Opcs3_2Mu5",
        "outputId": "8fc44738-14dc-48cf-a82c-c55cd7dc06d0"
      },
      "execution_count": 20,
      "outputs": [
        {
          "output_type": "display_data",
          "data": {
            "image/png": "[encoded data removed]",
            "text/plain": [
              "<Figure size 432x288 with 1 Axes>"
            ]
          },
          "metadata": {
            "needs_background": "light"
          }
        }
      ]
    },
    {
      "cell_type": "markdown",
      "source": [
        "### モデル構造＆重みの保存"
      ],
      "metadata": {
        "id": "BpYc7qcSIL5a"
      }
    },
    {
      "cell_type": "code",
      "source": [
        "# モデル構造の保存\n",
        "open(\"./vgg16.json\",\"w\").write(vgg16.to_json())\n",
        "\n",
        "# 学習済みの重みを保存\n",
        "vgg16.save_weights(\"./vgg16.hdf5\")"
      ],
      "metadata": {
        "id": "VQCMAO2BlEjJ"
      },
      "execution_count": 22,
      "outputs": []
    },
    {
      "cell_type": "code",
      "source": [
        "val_generator.class_indices"
      ],
      "metadata": {
        "colab": {
          "base_uri": "https://localhost:8080/"
        },
        "id": "dFTcjIdUsde3",
        "outputId": "6cf47d36-650d-4b09-c149-b16ef985a9b8"
      },
      "execution_count": 21,
      "outputs": [
        {
          "output_type": "execute_result",
          "data": {
            "text/plain": [
              "{'hebi': 5,\n",
              " 'hituji': 7,\n",
              " 'inoshishi': 11,\n",
              " 'inu': 10,\n",
              " 'nezumi': 0,\n",
              " 'saru': 8,\n",
              " 'tatu': 4,\n",
              " 'tora': 2,\n",
              " 'tori': 9,\n",
              " 'uma': 6,\n",
              " 'usagi': 3,\n",
              " 'ushi': 1}"
            ]
          },
          "metadata": {},
          "execution_count": 21
        }
      ]
    }
  ]
}